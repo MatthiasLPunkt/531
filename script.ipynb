{
 "cells": [
  {
   "cell_type": "code",
   "execution_count": 1,
   "metadata": {},
   "outputs": [],
   "source": [
    "import pandas as pd"
   ]
  },
  {
   "cell_type": "code",
   "execution_count": 2,
   "metadata": {},
   "outputs": [
    {
     "data": {
      "text/html": [
       "<div>\n",
       "<style scoped>\n",
       "    .dataframe tbody tr th:only-of-type {\n",
       "        vertical-align: middle;\n",
       "    }\n",
       "\n",
       "    .dataframe tbody tr th {\n",
       "        vertical-align: top;\n",
       "    }\n",
       "\n",
       "    .dataframe thead th {\n",
       "        text-align: right;\n",
       "    }\n",
       "</style>\n",
       "<table border=\"1\" class=\"dataframe\">\n",
       "  <thead>\n",
       "    <tr style=\"text-align: right;\">\n",
       "      <th></th>\n",
       "      <th>Date</th>\n",
       "      <th>Deadlift</th>\n",
       "      <th>Front Squat</th>\n",
       "      <th>Bench Press</th>\n",
       "      <th>Overhead Press</th>\n",
       "    </tr>\n",
       "  </thead>\n",
       "  <tbody>\n",
       "    <tr>\n",
       "      <th>0</th>\n",
       "      <td>2021-06-01</td>\n",
       "      <td>170</td>\n",
       "      <td>100</td>\n",
       "      <td>90</td>\n",
       "      <td>65</td>\n",
       "    </tr>\n",
       "  </tbody>\n",
       "</table>\n",
       "</div>"
      ],
      "text/plain": [
       "         Date  Deadlift  Front Squat  Bench Press  Overhead Press\n",
       "0  2021-06-01       170          100           90              65"
      ]
     },
     "execution_count": 2,
     "metadata": {},
     "output_type": "execute_result"
    }
   ],
   "source": [
    "# One rep maxes DATA FRAME\n",
    "## Do I really need a data frame for this?! Dictionary should work just as well...?\n",
    "one_rep_maxes = pd.DataFrame(\n",
    "    {\"Date\" : [\"2021-06-01\"],\n",
    "    \"Deadlift\": [170],\n",
    "    \"Front Squat\": [100],\n",
    "    \"Bench Press\": [90],\n",
    "    \"Overhead Press\": [65]}\n",
    ")\n",
    "one_rep_maxes\n"
   ]
  },
  {
   "cell_type": "code",
   "execution_count": 3,
   "metadata": {},
   "outputs": [],
   "source": [
    "# Create a library of all 5/3/1 templates\n",
    "## TODO: add all templates, add all variations of templates\n",
    "program_library = {\n",
    "    \"Boring But Big - Base - Leader\": { # This key needs to be user input\n",
    "        \"Training Max\" : [.85, .90], # This key needs to be user input\n",
    "        \"Number of Main Sets\": 3,\n",
    "        \"Number of Repetitions in the Main Sets in Week 1\": [5, 5, 5],\n",
    "        \"Number of Repetitions in the Main Sets in Week 2\": [3, 3, 3],\n",
    "        \"Number of Repetitions in the Main Sets in Week 3\": [5, 3, 1],\n",
    "        \"Percentages of Main Sets in Week 1\": [.65, .75, .85],\n",
    "        \"Percentages of Main Sets in Week 2\": [.7, .8, .9],\n",
    "        \"Percentages of Main Sets in Week 3\": [.75, .85, .95],\n",
    "        \"Number of Supplemental Sets\": 5,\n",
    "        \"Number of Repetitions in the Supplemental Sets in Week 1\": [10, 10, 10, 10, 10],\n",
    "        \"Number of Repetitions in the Supplemental Sets in Week 2\": [10, 10, 10, 10, 10],\n",
    "        \"Number of Repetitions in the Supplemental Sets in Week 3\": [10, 10, 10, 10, 10],\n",
    "        \"Number of Repetitions in Push Assistance, minimum\": [25], # This key needs to be user input\n",
    "        \"Number of Repetitions in Push Assistance, maximum\": [50], # This key needs to be user input\n",
    "        \"Number of Repetitions in Pull Assistance, minimum\": [25], # This key needs to be user input\n",
    "        \"Number of Repetitions in Pull Assistance, maximum\": [50], # This key needs to be user input\n",
    "        \"Number of Repetitions in Single Leg/Core Assistance, minimum\": [0], # This key needs to be user input\n",
    "        \"Number of Repetitions in Single Leg/Core Assistance, maximum\": [50] # This key needs to be user input\n",
    "    },\n",
    "    \"test\": 1\n",
    "}"
   ]
  },
  {
   "cell_type": "code",
   "execution_count": 4,
   "metadata": {},
   "outputs": [
    {
     "name": "stdout",
     "output_type": "stream",
     "text": [
      "Boring But Big - Base - Leader\n",
      "test\n"
     ]
    }
   ],
   "source": [
    "#x = one_rep_maxes.loc[0, \"Deadlift\"] * program_library[\"Boring But Big\"][\"Training Max\"][0] * program_library[\"Boring But Big\"][\"Percentages of Main Sets in Week 1\"][0]\n",
    "#weight = []\n",
    "#weight.append(x)\n",
    "#weight"
   ]
  },
  {
   "cell_type": "code",
   "execution_count": 5,
   "metadata": {},
   "outputs": [
    {
     "name": "stdout",
     "output_type": "stream",
     "text": [
      "Choose a program from the list:\n",
      "1 - Boring But Big - Base - Leader\n",
      "2 - test\n"
     ]
    }
   ],
   "source": [
    "# List all programs to chose from\n",
    "template_index = [i + 1 for i in range(len(program_library.keys()))]\n",
    "template_name = [i for i in program_library.keys()]\n",
    "\n",
    "print(\"Choose a program from the list:\")\n",
    "for i in range(len(template_index)):\n",
    "    print(str(template_index[i]) + \" - \" + template_name[i])\n",
    "\n"
   ]
  },
  {
   "cell_type": "code",
   "execution_count": 6,
   "metadata": {},
   "outputs": [
    {
     "name": "stdout",
     "output_type": "stream",
     "text": [
      "Your program choice: 1 Boring But Big - Base - Leader\n"
     ]
    }
   ],
   "source": [
    "# Input your desired parameters:\n",
    "# TODO use PyInputPlus package for input validation\n",
    "\n",
    "choices = [] # all choices will be stored in this list and displayed at the end\n",
    "\n",
    "while True:\n",
    "    program_choice_int = input(\"Enter the index number of a program of your choice\")\n",
    "    try:\n",
    "        program_choice_int = int(program_choice_int)\n",
    "    except:\n",
    "        print(\"Please only enter integer numbers!\")\n",
    "        continue\n",
    "    if program_choice_int < 1:\n",
    "        print(\"Please only enter positive numbers!\")\n",
    "    break\n",
    "\n",
    "program_choice_name = template_name[int(program_choice_int) - 1]\n",
    "print(\"Your program choice:\" + \" \" + str(program_choice_int) + \" \" + program_choice_name)\n",
    "\n",
    "choice.append(program_choice_name)"
   ]
  },
  {
   "cell_type": "code",
   "execution_count": 10,
   "metadata": {},
   "outputs": [
    {
     "name": "stdout",
     "output_type": "stream",
     "text": [
      "There are multiple options for your training maximum to choose from. Which one do you prefer?\n",
      "85 %\n",
      "90 %\n",
      "Please choose only choose from the listed training maxima!\n"
     ]
    }
   ],
   "source": [
    "# Use program_choice to access and choose program options (different training maxima, amount of assistance exercise repititions)\n",
    "## Training Maxima Options\n",
    "program_choice_options_training_max = program_library[program_choice_name][\"Training Max\"]\n",
    "\n",
    "print(\"There are multiple options for your training maximum to choose from. Which one do you prefer?\")\n",
    "for i in program_choice_options_training_max:\n",
    "    print(str(int(i * 100)) + \" %\")\n",
    "\n",
    "while True:\n",
    "    training_max_choice = input(\"Choose desired Training Max: \")\n",
    "    try:\n",
    "        training_max_choice = int(training_max_choice)\n",
    "    except:\n",
    "        print(\"Please only enter integer numbers!\")\n",
    "        continue\n",
    "    if training_max_choice / 100 not in program_library[program_choice_name][\"Training Max\"]:\n",
    "        print(\"Please choose only choose from the listed training maxima!\")\n",
    "        continue\n",
    "    break\n",
    "\n",
    "choice.append(training_max_choice)"
   ]
  },
  {
   "cell_type": "code",
   "execution_count": null,
   "metadata": {},
   "outputs": [],
   "source": [
    "## Assistance Work Repetitions Options\n",
    "program_choice_options_assistance_push_minimum = program_library[program_choice_name][\"Number of Repetitions in Push Assistance, minimum\"][0]\n",
    "program_choice_options_assistance_push_maximum = program_library[program_choice_name][\"Number of Repetitions in Push Assistance, maximum\"][0]\n",
    "program_choice_options_assistance_pull_minimum = program_library[program_choice_name][\"Number of Repetitions in Pull Assistance, minimum\"][0]\n",
    "program_choice_options_assistance_pull_maximum = program_library[program_choice_name][\"Number of Repetitions in Pull Assistance, maximum\"][0]\n",
    "program_choice_options_assistance_singleleg_core_minimum = program_library[program_choice_name][\"Number of Repetitions in Single Leg/Core Assistance, minimum\"][0]\n",
    "program_choice_options_assistance_singleleg_core_maximum = program_library[program_choice_name][\"Number of Repetitions in Single Leg/Core Assistance, maximum\"][0]\n",
    "\n",
    "print(\"Push Assistance Exercises for \" + program_choice_name + \" should be within the following ranges: \" + str(program_choice_options_assistance_push_minimum) + \" - \" + str(program_choice_options_assistance_push_maximum))\n",
    "print(\"Pull Assistance Exercises for \" + program_choice_name + \" should be within the following ranges: \" + str(program_choice_options_assistance_pull_minimum) + \" - \" + str(program_choice_options_assistance_pull_maximum))\n",
    "print(\"Single Leg/Core Assistance Exercises for \" + program_choice_name + \" should be within the following ranges: \" + str(program_choice_options_assistance_singleleg_core_minimum) + \" - \" + str(program_choice_options_assistance_singleleg_core_maximum))\n",
    "\n",
    "while True:\n",
    "    assistance_push_reps = input(\"Choose desired amount of repetitions for PUSH assistance exercises: \")\n",
    "    try:\n",
    "        assistance_push_reps = int(assistance_push_reps)\n",
    "    except:\n",
    "        print(\"Please only enter integer numbers!\")\n",
    "        continue\n",
    "    if assistance_push_reps < program_choice_options_assistance_push_minimum:\n",
    "        print(\"Please choose at least \" + str(program_choice_options_assistance_push_minimum) + \" repetitions!\")\n",
    "        continue\n",
    "    if assistance_push_reps > program_choice_options_assistance_push_maximum:\n",
    "        print(\"Please choose at most \" + str(program_choice_options_assistance_push_minimum) + \" repetitions!\")\n",
    "        continue\n",
    "    break\n",
    "# TODO: input validation loops for each of the assistance repetition choices"
   ]
  }
 ],
 "metadata": {
  "interpreter": {
   "hash": "6a9d62a46d8a70cfcc2de8a5ea9279db376840109668d8caf0846004649e5a19"
  },
  "kernelspec": {
   "display_name": "Python 3.9.5 64-bit ('justpandas': conda)",
   "name": "python3"
  },
  "language_info": {
   "codemirror_mode": {
    "name": "ipython",
    "version": 3
   },
   "file_extension": ".py",
   "mimetype": "text/x-python",
   "name": "python",
   "nbconvert_exporter": "python",
   "pygments_lexer": "ipython3",
   "version": "3.9.5"
  },
  "orig_nbformat": 4
 },
 "nbformat": 4,
 "nbformat_minor": 2
}
